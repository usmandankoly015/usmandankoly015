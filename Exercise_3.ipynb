{
  "nbformat": 4,
  "nbformat_minor": 0,
  "metadata": {
    "kernelspec": {
      "display_name": "Python 3",
      "language": "python",
      "name": "python3"
    },
    "language_info": {
      "codemirror_mode": {
        "name": "ipython",
        "version": 3
      },
      "file_extension": ".py",
      "mimetype": "text/x-python",
      "name": "python",
      "nbconvert_exporter": "python",
      "pygments_lexer": "ipython3",
      "version": "3.6.5"
    },
    "colab": {
      "name": "Exercise_3.ipynb",
      "provenance": [],
      "include_colab_link": true
    }
  },
  "cells": [
    {
      "cell_type": "markdown",
      "metadata": {
        "id": "view-in-github",
        "colab_type": "text"
      },
      "source": [
        "<a href=\"https://colab.research.google.com/github/usmandankoly015/usmandankoly015/blob/main/Exercise_3.ipynb\" target=\"_parent\"><img src=\"https://colab.research.google.com/assets/colab-badge.svg\" alt=\"Open In Colab\"/></a>"
      ]
    },
    {
      "cell_type": "markdown",
      "metadata": {
        "id": "XfN7-6YaXbbK"
      },
      "source": [
        "### Data Structures\n",
        "In simple terms, It is the the collection or group of data in a particular structure.\n",
        "\n",
        "#### Lists\n",
        "Lists are the most commonly used data structure. Think of it as a sequence of data that is enclosed in square brackets and data are separated by a comma. Each of these data can be accessed by calling it's index value.\n",
        "\n",
        "Lists are declared by just equating a variable to '[ ]' or list."
      ]
    },
    {
      "cell_type": "code",
      "metadata": {
        "id": "cM_nLhIlXbbL"
      },
      "source": [
        "a = []"
      ],
      "execution_count": null,
      "outputs": []
    },
    {
      "cell_type": "code",
      "metadata": {
        "id": "Ei8ovijqXbbL",
        "outputId": "1bd0131d-98f8-4505-80fd-ff37ee0c4d39"
      },
      "source": [
        "print(type(a))"
      ],
      "execution_count": null,
      "outputs": [
        {
          "output_type": "stream",
          "text": [
            "<class 'list'>\n"
          ],
          "name": "stdout"
        }
      ]
    },
    {
      "cell_type": "code",
      "metadata": {
        "id": "nVzzywWBXbbL"
      },
      "source": [
        "x = ['apple', 'orange', 'banana']"
      ],
      "execution_count": 3,
      "outputs": []
    },
    {
      "cell_type": "code",
      "metadata": {
        "id": "kdqvNVzgXbbM",
        "outputId": "1290a9dc-bbf9-4a02-e0cb-3e3b51b3d4c4",
        "colab": {
          "base_uri": "https://localhost:8080/",
          "height": 35
        }
      },
      "source": [
        "x[1]"
      ],
      "execution_count": 4,
      "outputs": [
        {
          "output_type": "execute_result",
          "data": {
            "text/plain": [
              "'orange'"
            ],
            "application/vnd.google.colaboratory.intrinsic+json": {
              "type": "string"
            }
          },
          "metadata": {},
          "execution_count": 4
        }
      ]
    },
    {
      "cell_type": "code",
      "metadata": {
        "id": "WTyPFJULXbbM"
      },
      "source": [
        "## Indexing can also be done in reverse order. That is the last element can be accessed first.\n",
        "# Here, indexing starts from -1. Thus index value -1 will be orange and index -2 will be apple."
      ],
      "execution_count": 1,
      "outputs": []
    },
    {
      "cell_type": "code",
      "metadata": {
        "id": "kU1fr9sZXbbM",
        "outputId": "2c869ddb-4e00-457e-f344-ec56238f6922",
        "colab": {
          "base_uri": "https://localhost:8080/",
          "height": 35
        }
      },
      "source": [
        "x[-2]"
      ],
      "execution_count": 5,
      "outputs": [
        {
          "output_type": "execute_result",
          "data": {
            "text/plain": [
              "'orange'"
            ],
            "application/vnd.google.colaboratory.intrinsic+json": {
              "type": "string"
            }
          },
          "metadata": {},
          "execution_count": 5
        }
      ]
    },
    {
      "cell_type": "markdown",
      "metadata": {
        "id": "6XGCCTuTXbbM"
      },
      "source": [
        "As you might have already guessed, x[0] = x[-2], x[1] = x[-1]. This concept can be extended towards lists with more many elements."
      ]
    },
    {
      "cell_type": "code",
      "metadata": {
        "id": "6DrkZPfCXbbM"
      },
      "source": [
        "y = ['carrot','potato']"
      ],
      "execution_count": 6,
      "outputs": []
    },
    {
      "cell_type": "code",
      "metadata": {
        "id": "7Z7Wgpl4XbbM",
        "outputId": "b919a3ff-3892-45c9-f73b-d7d26ef66411",
        "colab": {
          "base_uri": "https://localhost:8080/"
        }
      },
      "source": [
        "z  = [x,y]\n",
        "print(z)"
      ],
      "execution_count": 7,
      "outputs": [
        {
          "output_type": "stream",
          "name": "stdout",
          "text": [
            "[['apple', 'orange', 'banana'], ['carrot', 'potato']]\n"
          ]
        }
      ]
    },
    {
      "cell_type": "code",
      "metadata": {
        "id": "IwSRpnk-XbbN",
        "outputId": "1647ec01-ceaf-4d6e-9e25-11b06fb2c675",
        "colab": {
          "base_uri": "https://localhost:8080/"
        }
      },
      "source": [
        "z1 = z[0]\n",
        "print(z1)"
      ],
      "execution_count": 9,
      "outputs": [
        {
          "output_type": "stream",
          "name": "stdout",
          "text": [
            "['apple', 'orange', 'banana']\n"
          ]
        }
      ]
    },
    {
      "cell_type": "code",
      "metadata": {
        "id": "HDaxh2zqXbbN",
        "outputId": "ff0bb498-7d2e-4cfe-acd7-df8599dc2fa1",
        "colab": {
          "base_uri": "https://localhost:8080/",
          "height": 35
        }
      },
      "source": [
        "z[0][0]"
      ],
      "execution_count": 10,
      "outputs": [
        {
          "output_type": "execute_result",
          "data": {
            "text/plain": [
              "'apple'"
            ],
            "application/vnd.google.colaboratory.intrinsic+json": {
              "type": "string"
            }
          },
          "metadata": {},
          "execution_count": 10
        }
      ]
    },
    {
      "cell_type": "markdown",
      "metadata": {
        "id": "iG1tH8toXbbN"
      },
      "source": [
        "## Slicing\n",
        "Indexing was only limited to accessing a single element, Slicing on the other hand is accessing a sequence of data inside the list. In other words \"slicing\" the list.\n",
        "\n",
        "Slicing is done by defining the index values of the first element and the last element from the parent list that is required in the sliced list. It is written as parentlist[ a : b ] where a,b are the index values from the parent list. If a or b is not defined then the index value is considered to be the first value for a if a is not defined and the last value for b when b is not defined."
      ]
    },
    {
      "cell_type": "code",
      "metadata": {
        "id": "9JlE3q9QXbbN"
      },
      "source": [
        "num = [0,1,2,3,4,5,6,7,8,9]"
      ],
      "execution_count": 11,
      "outputs": []
    },
    {
      "cell_type": "code",
      "metadata": {
        "id": "PP9T9UmMXbbN",
        "outputId": "69cf3e7d-06c3-43c8-eee0-2f137aef6a84",
        "colab": {
          "base_uri": "https://localhost:8080/"
        }
      },
      "source": [
        "print(num[0:4])\n",
        "print(num[4:])"
      ],
      "execution_count": 15,
      "outputs": [
        {
          "output_type": "stream",
          "name": "stdout",
          "text": [
            "[0, 1, 2, 3]\n",
            "[4, 5, 6, 7, 8, 9]\n"
          ]
        }
      ]
    },
    {
      "cell_type": "code",
      "metadata": {
        "id": "w0LLPluaXbbO",
        "outputId": "c69d363d-4e21-422c-c3e0-d152742170a9",
        "colab": {
          "base_uri": "https://localhost:8080/"
        }
      },
      "source": [
        "num[:9:4]"
      ],
      "execution_count": 18,
      "outputs": [
        {
          "output_type": "execute_result",
          "data": {
            "text/plain": [
              "[0, 4, 8]"
            ]
          },
          "metadata": {},
          "execution_count": 18
        }
      ]
    },
    {
      "cell_type": "code",
      "metadata": {
        "id": "F_ktCA5-XbbO",
        "outputId": "968b43a2-a3a8-4264-927d-3f4c62e3a756"
      },
      "source": [
        "len(num)"
      ],
      "execution_count": null,
      "outputs": [
        {
          "output_type": "execute_result",
          "data": {
            "text/plain": [
              "10"
            ]
          },
          "metadata": {
            "tags": []
          },
          "execution_count": 19
        }
      ]
    },
    {
      "cell_type": "code",
      "metadata": {
        "id": "sxuEx55nXbbO",
        "outputId": "6bbf40bf-3da3-47c5-cd08-4da8fedd65c3"
      },
      "source": [
        "min(num)"
      ],
      "execution_count": null,
      "outputs": [
        {
          "output_type": "execute_result",
          "data": {
            "text/plain": [
              "0"
            ]
          },
          "metadata": {
            "tags": []
          },
          "execution_count": 20
        }
      ]
    },
    {
      "cell_type": "code",
      "metadata": {
        "id": "vdGBeHVCXbbO",
        "outputId": "fff8f98a-3715-455d-cc86-5fb4f72c0a27"
      },
      "source": [
        "max(num)"
      ],
      "execution_count": null,
      "outputs": [
        {
          "output_type": "execute_result",
          "data": {
            "text/plain": [
              "9"
            ]
          },
          "metadata": {
            "tags": []
          },
          "execution_count": 21
        }
      ]
    },
    {
      "cell_type": "markdown",
      "metadata": {
        "id": "NZqa1C3KXbbP"
      },
      "source": [
        "Lists can be concatenated by adding, '+' them. The resultant list will contain all the elements of the lists that were added. The resultant list will not be a nested list."
      ]
    },
    {
      "cell_type": "code",
      "metadata": {
        "id": "M0j9o6_4XbbP",
        "outputId": "3674df97-f161-47bc-a8f8-354e42bc7ef1"
      },
      "source": [
        "[1,2,3] + [5,4,7]"
      ],
      "execution_count": null,
      "outputs": [
        {
          "output_type": "execute_result",
          "data": {
            "text/plain": [
              "[1, 2, 3, 5, 4, 7]"
            ]
          },
          "metadata": {
            "tags": []
          },
          "execution_count": 23
        }
      ]
    },
    {
      "cell_type": "markdown",
      "metadata": {
        "id": "q9ETRq5_XbbP"
      },
      "source": [
        "There might arise a requirement where you might need to check if a particular element is there in a predefined list. Consider the below list."
      ]
    },
    {
      "cell_type": "code",
      "metadata": {
        "id": "bzfJznO4XbbP"
      },
      "source": [
        "names = ['Earth','Air','Fire','Water']"
      ],
      "execution_count": null,
      "outputs": []
    },
    {
      "cell_type": "code",
      "metadata": {
        "id": "jcdHvQaGXbbP",
        "outputId": "fcb857b7-4be7-4cf5-c3c2-cacfcd7d48e7"
      },
      "source": [
        "'Fire' in names"
      ],
      "execution_count": null,
      "outputs": [
        {
          "output_type": "execute_result",
          "data": {
            "text/plain": [
              "True"
            ]
          },
          "metadata": {
            "tags": []
          },
          "execution_count": 25
        }
      ]
    },
    {
      "cell_type": "code",
      "metadata": {
        "id": "vbyCnPh-XbbP",
        "outputId": "f7fc9a94-b86e-4de7-d1ee-3200f32e60b8"
      },
      "source": [
        "'Smith' in names"
      ],
      "execution_count": null,
      "outputs": [
        {
          "output_type": "execute_result",
          "data": {
            "text/plain": [
              "False"
            ]
          },
          "metadata": {
            "tags": []
          },
          "execution_count": 26
        }
      ]
    },
    {
      "cell_type": "markdown",
      "metadata": {
        "id": "uwmMHlbHXbbQ"
      },
      "source": [
        "## Append "
      ]
    },
    {
      "cell_type": "code",
      "metadata": {
        "id": "CAHjMCIYXbbQ"
      },
      "source": [
        "lst = [1,1,4,8,7]"
      ],
      "execution_count": null,
      "outputs": []
    },
    {
      "cell_type": "code",
      "metadata": {
        "id": "5pe4GA66XbbQ",
        "outputId": "c8eb77a1-34ab-4c59-d524-1b1bf7e26918"
      },
      "source": [
        "\n",
        "lst.append(1)\n",
        "print(lst)"
      ],
      "execution_count": null,
      "outputs": [
        {
          "output_type": "stream",
          "text": [
            "[1, 1, 4, 8, 7, 1, 1]\n"
          ],
          "name": "stdout"
        }
      ]
    },
    {
      "cell_type": "code",
      "metadata": {
        "id": "hWn3Ebk1XbbQ",
        "outputId": "c1f9d804-59e1-4772-b1cf-a442c613eb4f"
      },
      "source": [
        "lst.count(1)"
      ],
      "execution_count": null,
      "outputs": [
        {
          "output_type": "execute_result",
          "data": {
            "text/plain": [
              "3"
            ]
          },
          "metadata": {
            "tags": []
          },
          "execution_count": 29
        }
      ]
    },
    {
      "cell_type": "markdown",
      "metadata": {
        "id": "63gSPDl9XbbQ"
      },
      "source": [
        "append( ) function can also be used to add a entire list at the end. Observe that the resultant list becomes a nested list."
      ]
    },
    {
      "cell_type": "code",
      "metadata": {
        "id": "tKr3uYXYXbbQ"
      },
      "source": [
        "lst1 = [5,4,2,8]"
      ],
      "execution_count": null,
      "outputs": []
    },
    {
      "cell_type": "code",
      "metadata": {
        "id": "V5zJvXMGXbbR",
        "outputId": "b4bc4eed-f7a0-4a04-9592-2a39578d7c91"
      },
      "source": [
        "lst.append(lst1)\n",
        "print(lst)"
      ],
      "execution_count": null,
      "outputs": [
        {
          "output_type": "stream",
          "text": [
            "[1, 1, 4, 8, 7, 1, 1, [5, 4, 2, 8]]\n"
          ],
          "name": "stdout"
        }
      ]
    },
    {
      "cell_type": "markdown",
      "metadata": {
        "id": "HAPt84CCXbbR"
      },
      "source": [
        "But if nested list is not what is desired then extend( ) function can be used."
      ]
    },
    {
      "cell_type": "code",
      "metadata": {
        "id": "YEQUx6vzXbbR",
        "outputId": "55ee6d95-fafb-43e2-db2b-04bfad388d34"
      },
      "source": [
        "lst.extend(lst1)\n",
        "print(lst)"
      ],
      "execution_count": null,
      "outputs": [
        {
          "output_type": "stream",
          "text": [
            "[1, 1, 4, 8, 7, 1, 1, [5, 4, 2, 8], 5, 4, 2, 8]\n"
          ],
          "name": "stdout"
        }
      ]
    },
    {
      "cell_type": "code",
      "metadata": {
        "id": "XIrfdwyUXbbR",
        "outputId": "f01f5855-9db9-4103-f4ef-138252d91130"
      },
      "source": [
        "lst.index(8)"
      ],
      "execution_count": null,
      "outputs": [
        {
          "output_type": "execute_result",
          "data": {
            "text/plain": [
              "3"
            ]
          },
          "metadata": {
            "tags": []
          },
          "execution_count": 37
        }
      ]
    },
    {
      "cell_type": "markdown",
      "metadata": {
        "id": "Db94LtOoXbbR"
      },
      "source": [
        "insert(x,y) is used to insert a element y at a specified index value x. append( ) function made it only possible to insert at the end."
      ]
    },
    {
      "cell_type": "code",
      "metadata": {
        "id": "XkGvj3CeXbbR",
        "outputId": "0d1d5ec1-c657-44f7-896b-5aeb42437509"
      },
      "source": [
        "lst.insert(5, 'name')\n",
        "print(lst)"
      ],
      "execution_count": null,
      "outputs": [
        {
          "output_type": "stream",
          "text": [
            "[1, 1, 4, 8, 7, 'name', 1, 1, [5, 4, 2, 8], 5, 4, 2, 8]\n"
          ],
          "name": "stdout"
        }
      ]
    },
    {
      "cell_type": "markdown",
      "metadata": {
        "id": "hM-xpnAxXbbR"
      },
      "source": [
        "insert(x,y) inserts but does not replace element. If you want to replace the element with another element you simply assign the value to that particular index."
      ]
    },
    {
      "cell_type": "code",
      "metadata": {
        "id": "kIZSKyfUXbbR",
        "outputId": "d8e11a6a-67da-48ee-f267-0fa8a1c55bab"
      },
      "source": [
        "lst[5] = 'Python'\n",
        "print(lst)"
      ],
      "execution_count": null,
      "outputs": [
        {
          "output_type": "stream",
          "text": [
            "[1, 1, 4, 8, 7, 'Python', 1, 1, [5, 4, 2, 8], 5, 4, 2, 8]\n"
          ],
          "name": "stdout"
        }
      ]
    },
    {
      "cell_type": "markdown",
      "metadata": {
        "id": "6oX-aroFXbbS"
      },
      "source": [
        "pop( ) function return the last element in the list. This is similar to the operation of a stack. Hence it wouldn't be wrong to tell that lists can be used as a stack."
      ]
    },
    {
      "cell_type": "code",
      "metadata": {
        "id": "oExBa8m_XbbS",
        "outputId": "8f7707e5-1e0d-43df-e2f0-a380897affe3"
      },
      "source": [
        "lst.pop()"
      ],
      "execution_count": null,
      "outputs": [
        {
          "output_type": "execute_result",
          "data": {
            "text/plain": [
              "8"
            ]
          },
          "metadata": {
            "tags": []
          },
          "execution_count": 41
        }
      ]
    },
    {
      "cell_type": "markdown",
      "metadata": {
        "id": "riU9IMXxXbbS"
      },
      "source": [
        "Index value can be specified to pop a ceratin element corresponding to that index value."
      ]
    },
    {
      "cell_type": "code",
      "metadata": {
        "id": "WMzgei0DXbbS",
        "outputId": "57208f3c-d265-44df-bce4-11c18ad6cce4"
      },
      "source": [
        "lst.pop(0)"
      ],
      "execution_count": null,
      "outputs": [
        {
          "output_type": "execute_result",
          "data": {
            "text/plain": [
              "1"
            ]
          },
          "metadata": {
            "tags": []
          },
          "execution_count": 42
        }
      ]
    },
    {
      "cell_type": "code",
      "metadata": {
        "id": "KK70FH1YXbbS",
        "outputId": "1d6283e6-0045-4fdf-fc6b-a5914cb5d3b8"
      },
      "source": [
        "print(lst)"
      ],
      "execution_count": null,
      "outputs": [
        {
          "output_type": "stream",
          "text": [
            "[1, 4, 8, 7, 'Python', 1, 1, [5, 4, 2, 8], 5, 4, 2]\n"
          ],
          "name": "stdout"
        }
      ]
    },
    {
      "cell_type": "markdown",
      "metadata": {
        "id": "3tfUGdBDXbbS"
      },
      "source": [
        "pop( ) is used to remove element based on it's index value which can be assigned to a variable. One can also remove element by specifying the element itself using the remove( ) function."
      ]
    },
    {
      "cell_type": "code",
      "metadata": {
        "id": "P-qm1ogHXbbS",
        "outputId": "c3a1acd5-6ee6-41b8-d08a-a6319b81087d"
      },
      "source": [
        "lst.remove('Python')\n",
        "print(lst)"
      ],
      "execution_count": null,
      "outputs": [
        {
          "output_type": "stream",
          "text": [
            "[1, 4, 8, 7, 1, 1, [5, 4, 2, 8], 5, 4, 2]\n"
          ],
          "name": "stdout"
        }
      ]
    },
    {
      "cell_type": "code",
      "metadata": {
        "id": "W6hSjs8OXbbT",
        "outputId": "a7d4a42d-5f8d-4f56-8e43-6e338ac515f9"
      },
      "source": [
        "del(lst[1])\n",
        "print(lst)"
      ],
      "execution_count": null,
      "outputs": [
        {
          "output_type": "stream",
          "text": [
            "[1, 8, 7, 1, 1, [5, 4, 2, 8], 5, 4, 2]\n"
          ],
          "name": "stdout"
        }
      ]
    },
    {
      "cell_type": "markdown",
      "metadata": {
        "id": "vnoTDxb_XbbT"
      },
      "source": [
        "The entire elements present in the list can be reversed by using the reverse() function."
      ]
    },
    {
      "cell_type": "code",
      "metadata": {
        "id": "2Wmie0DVXbbT",
        "outputId": "e032ced6-350b-4502-a0c2-9e30270c509e"
      },
      "source": [
        "lst.reverse()\n",
        "print(lst)"
      ],
      "execution_count": null,
      "outputs": [
        {
          "output_type": "stream",
          "text": [
            "[2, 4, 5, [5, 4, 2, 8], 1, 1, 7, 8, 1]\n"
          ],
          "name": "stdout"
        }
      ]
    },
    {
      "cell_type": "markdown",
      "metadata": {
        "id": "aQxeMf5pXbbT"
      },
      "source": [
        "Note that the nested list [5,4,2,8] is treated as a single element of the parent list lst. Thus the elements inside the nested list is not reversed.\n",
        "\n",
        "Python offers built in operation sort( ) to arrange the elements in ascending order."
      ]
    },
    {
      "cell_type": "markdown",
      "metadata": {
        "id": "YJWsxayjXbbT"
      },
      "source": [
        "## Build In Function\n"
      ]
    },
    {
      "cell_type": "code",
      "metadata": {
        "id": "Ffla5_TZXbbT"
      },
      "source": [
        "set1 = set([1,2,3])\n",
        "set2 = set([2,3,4,5])"
      ],
      "execution_count": null,
      "outputs": []
    },
    {
      "cell_type": "code",
      "metadata": {
        "id": "aF3JvVsYXbbT",
        "outputId": "3519de27-265d-4427-a39b-ed34c5574a07"
      },
      "source": [
        "# union( ) function returns a set which contains all the elements of both the sets without repition.\n",
        "\n",
        "set1.union(set2)"
      ],
      "execution_count": null,
      "outputs": [
        {
          "output_type": "execute_result",
          "data": {
            "text/plain": [
              "{1, 2, 3, 4, 5}"
            ]
          },
          "metadata": {
            "tags": []
          },
          "execution_count": 53
        }
      ]
    },
    {
      "cell_type": "code",
      "metadata": {
        "id": "rYYUQVS1XbbU",
        "outputId": "a2320ab8-5c8a-4f02-9eac-d45dcfa7e6ae"
      },
      "source": [
        "set1.add(0)\n",
        "set1"
      ],
      "execution_count": null,
      "outputs": [
        {
          "output_type": "execute_result",
          "data": {
            "text/plain": [
              "{0, 1, 2, 3}"
            ]
          },
          "metadata": {
            "tags": []
          },
          "execution_count": 54
        }
      ]
    },
    {
      "cell_type": "code",
      "metadata": {
        "id": "eOz9cemeXbbU",
        "outputId": "addd3dda-3ede-4a50-bf19-5425d5402bf1"
      },
      "source": [
        "set1.intersection(set2)"
      ],
      "execution_count": null,
      "outputs": [
        {
          "output_type": "execute_result",
          "data": {
            "text/plain": [
              "{2, 3}"
            ]
          },
          "metadata": {
            "tags": []
          },
          "execution_count": 55
        }
      ]
    },
    {
      "cell_type": "code",
      "metadata": {
        "id": "kW-QudEjXbbU",
        "outputId": "79822a8b-2cb2-4fce-9445-86fd9917905f"
      },
      "source": [
        "set1.difference(set2)"
      ],
      "execution_count": null,
      "outputs": [
        {
          "output_type": "execute_result",
          "data": {
            "text/plain": [
              "{0, 1}"
            ]
          },
          "metadata": {
            "tags": []
          },
          "execution_count": 56
        }
      ]
    },
    {
      "cell_type": "code",
      "metadata": {
        "id": "G0-JLUmfXbbU",
        "outputId": "c8c5fcca-5cd6-469d-de09-0c1f15b5d42f"
      },
      "source": [
        "set1.issubset(set2)"
      ],
      "execution_count": null,
      "outputs": [
        {
          "output_type": "execute_result",
          "data": {
            "text/plain": [
              "False"
            ]
          },
          "metadata": {
            "tags": []
          },
          "execution_count": 57
        }
      ]
    },
    {
      "cell_type": "code",
      "metadata": {
        "id": "55PHfz5kXbbU"
      },
      "source": [
        ""
      ],
      "execution_count": null,
      "outputs": []
    }
  ]
}